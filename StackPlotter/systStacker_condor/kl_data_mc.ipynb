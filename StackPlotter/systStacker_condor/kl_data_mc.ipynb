{
 "cells": [
  {
   "cell_type": "markdown",
   "metadata": {},
   "source": [
    "# Stacked histogram reading\n",
    "## and extracting MC / data to get KL divergences"
   ]
  },
  {
   "cell_type": "code",
   "execution_count": 1,
   "metadata": {},
   "outputs": [],
   "source": [
    "import uproot4 as uproot\n",
    "import numpy as np\n",
    "import matplotlib.pyplot as plt\n",
    "import mplhep as hep\n",
    "plt.style.use([hep.style.ROOT, hep.style.fira, hep.style.firamath])"
   ]
  },
  {
   "cell_type": "code",
   "execution_count": 2,
   "metadata": {},
   "outputs": [],
   "source": [
    "from scipy.stats import entropy"
   ]
  },
  {
   "cell_type": "code",
   "execution_count": 3,
   "metadata": {},
   "outputs": [],
   "source": [
    "test_histo = uproot.open('/nfs/dust/cms/user/anstein/ctag_condor/systPlots_210629_2017_flat_200_gamma25.0_alphaNone/Plots_210629_flat_200_gamma25.0_alphaNone_minimal_Custom/output_2017_PFNano_central/DY_m_jet_CustomCvsB_0_.root')"
   ]
  },
  {
   "cell_type": "code",
   "execution_count": 4,
   "metadata": {},
   "outputs": [
    {
     "data": {
      "text/plain": [
       "<ReadOnlyDirectory '/' at 0x7f6562f20fd0>"
      ]
     },
     "execution_count": 4,
     "metadata": {},
     "output_type": "execute_result"
    }
   ],
   "source": [
    "test_histo"
   ]
  },
  {
   "cell_type": "code",
   "execution_count": 5,
   "metadata": {},
   "outputs": [
    {
     "data": {
      "text/plain": [
       "['DYJets_lep;1',\n",
       " 'DYJets_uds;1',\n",
       " 'DYJets_b;1',\n",
       " 'DYJets_c;1',\n",
       " 'c;1',\n",
       " 'b;1',\n",
       " 'uds;1',\n",
       " 'lep;1',\n",
       " 'MCSum;1',\n",
       " 'Data;1']"
      ]
     },
     "execution_count": 5,
     "metadata": {},
     "output_type": "execute_result"
    }
   ],
   "source": [
    "test_histo.keys()"
   ]
  },
  {
   "cell_type": "code",
   "execution_count": 6,
   "metadata": {},
   "outputs": [
    {
     "data": {
      "text/plain": [
       "<TH1D (version 3) at 0x7f6562f3c9d0>"
      ]
     },
     "execution_count": 6,
     "metadata": {},
     "output_type": "execute_result"
    }
   ],
   "source": [
    "test_histo['MCSum']"
   ]
  },
  {
   "cell_type": "code",
   "execution_count": 7,
   "metadata": {},
   "outputs": [
    {
     "name": "stdout",
     "output_type": "stream",
     "text": [
      "0.0\n",
      "0.0\n",
      "0.0\n",
      "0.0\n",
      "0.0\n",
      "0.0\n",
      "0.0\n",
      "0.0\n",
      "0.0\n",
      "0.0\n",
      "0.0\n",
      "18290.398130126105\n",
      "2097.754270182098\n",
      "1361.3118074932354\n",
      "1281.0097415509474\n",
      "1454.7326103071184\n",
      "1975.8270403471038\n",
      "2124.298786037758\n",
      "2206.980504623118\n",
      "2400.328132196969\n",
      "2598.288917991997\n",
      "3052.838208331864\n",
      "3470.320236837611\n",
      "4119.724345028243\n",
      "5334.681436935227\n",
      "7036.149197000181\n",
      "9076.462957687902\n",
      "11563.887363754762\n",
      "14733.995279003202\n",
      "17907.948436417322\n",
      "21804.422213963164\n",
      "26344.672274487522\n",
      "31647.37057706173\n",
      "38375.70223666776\n",
      "55570.72993986644\n",
      "53916.91701749561\n",
      "54530.65022106876\n",
      "59449.4020796978\n",
      "66420.75913151627\n",
      "74774.13325048643\n",
      "83481.09138792168\n",
      "86738.62732970921\n",
      "87781.47612919852\n",
      "84754.1236232191\n",
      "80568.80636977071\n",
      "75170.34911279756\n",
      "69546.26598422471\n",
      "64982.67025499601\n",
      "61187.060094086584\n",
      "59543.79702789494\n",
      "58790.27829499729\n",
      "56144.5914499504\n",
      "47682.24583450499\n",
      "33032.79821192068\n",
      "15230.833769693538\n",
      "3349.690264417869\n",
      "183.25350088497248\n",
      "2.3450156472474086\n",
      "0.0\n",
      "0.0\n",
      "0.0\n",
      "0.0\n"
     ]
    }
   ],
   "source": [
    "for v in test_histo['MCSum'].values():\n",
    "    print(v)"
   ]
  },
  {
   "cell_type": "code",
   "execution_count": 8,
   "metadata": {},
   "outputs": [
    {
     "name": "stdout",
     "output_type": "stream",
     "text": [
      "0.0\n",
      "0.0\n",
      "0.0\n",
      "0.0\n",
      "0.0\n",
      "0.0\n",
      "0.0\n",
      "0.0\n",
      "0.0\n",
      "0.0\n",
      "0.0\n",
      "15511.0\n",
      "2015.0\n",
      "1382.0\n",
      "1258.0\n",
      "1401.0\n",
      "1913.0\n",
      "2057.0\n",
      "2191.0\n",
      "2393.0\n",
      "2626.0\n",
      "2987.0\n",
      "3513.0\n",
      "4362.0\n",
      "5616.0\n",
      "7863.0\n",
      "10284.0\n",
      "13098.0\n",
      "16631.0\n",
      "20582.0\n",
      "25221.0\n",
      "31107.0\n",
      "37584.0\n",
      "45848.0\n",
      "63921.0\n",
      "63917.0\n",
      "64934.0\n",
      "69948.0\n",
      "77308.0\n",
      "83512.0\n",
      "90218.0\n",
      "90766.0\n",
      "88075.0\n",
      "82272.0\n",
      "76094.0\n",
      "69450.0\n",
      "62858.0\n",
      "57942.0\n",
      "54647.0\n",
      "51756.0\n",
      "49479.0\n",
      "44527.0\n",
      "34557.0\n",
      "20458.0\n",
      "7627.0\n",
      "1315.0\n",
      "65.0\n",
      "3.0\n",
      "0.0\n",
      "0.0\n",
      "0.0\n",
      "0.0\n"
     ]
    }
   ],
   "source": [
    "for v in test_histo['Data'].values():\n",
    "    print(v)"
   ]
  },
  {
   "cell_type": "code",
   "execution_count": 9,
   "metadata": {},
   "outputs": [
    {
     "data": {
      "text/plain": [
       "0.012581640597513094"
      ]
     },
     "execution_count": 9,
     "metadata": {},
     "output_type": "execute_result"
    }
   ],
   "source": [
    "entropy([v for v in test_histo['Data'].values()] , qk=[v for v in test_histo['MCSum'].values()])"
   ]
  },
  {
   "cell_type": "markdown",
   "metadata": {},
   "source": [
    "#### The actual implementation for several epochs / outputs"
   ]
  },
  {
   "cell_type": "code",
   "execution_count": 28,
   "metadata": {},
   "outputs": [
    {
     "name": "stdout",
     "output_type": "stream",
     "text": [
      "[0.013904009071008326, 0.006211246400665231, 0.008261965160216225, 0.016916355778145552, 0.014897218198282217, 0.012581595910135057, 0.012581640597513094, 0.014375682013595681]\n"
     ]
    }
   ],
   "source": [
    "epochs = [200]  # add the ones for which StackPlotter results exist\n",
    "kl_divs_all = []\n",
    "for i,e in enumerate(epochs):\n",
    "    kl_divs = []\n",
    "    for disc in ['Prob_b','Prob_bb','Prob_c','Prob_l','BvsL', 'BvsC', 'CvsB', 'CvsL']:  # select thos that exist for paths listed below\n",
    "        histo = uproot.open(f'/nfs/dust/cms/user/anstein/ctag_condor/systPlots_210629_2017_flat_{e}_gamma25.0_alphaNone/Plots_210629_flat_{e}_gamma25.0_alphaNone_minimal_Custom/output_2017_PFNano_central/DY_m_jet_Custom{disc}_0_.root')\n",
    "        num, denom = histo['Data'].values(), histo['MCSum'].values()\n",
    "        #rint(num, denom)\n",
    "        denom[(denom == 0) & (num != 0)] = 0.00001\n",
    "        #rint(num, denom)\n",
    "        kl_divs.append(entropy([v for v in num] , qk=[v for v in denom]))\n",
    "    print(kl_divs)\n",
    "    kl_divs_all.append(kl_divs)\n",
    "kl_divs_all = np.array(kl_divs_all)"
   ]
  },
  {
   "cell_type": "code",
   "execution_count": 14,
   "metadata": {},
   "outputs": [
    {
     "data": {
      "text/plain": [
       "Text(0, 1, 'KL divergence')"
      ]
     },
     "execution_count": 14,
     "metadata": {},
     "output_type": "execute_result"
    },
    {
     "data": {
      "image/png": "[encoded data removed]",
      "text/plain": [
       "<Figure size 936x720 with 1 Axes>"
      ]
     },
     "metadata": {
      "needs_background": "light"
     },
     "output_type": "display_data"
    }
   ],
   "source": [
    "fig = plt.figure(1,figsize=[13,10])\n",
    "plt.plot(epochs, kl_divs_all[:,0],label='Prob (b)')\n",
    "plt.plot(epochs, kl_divs_all[:,1],label='Prob (bb)')\n",
    "plt.plot(epochs, kl_divs_all[:,2],label='Prob (c)')\n",
    "plt.plot(epochs, kl_divs_all[:,3],label='Prob (udsg)')\n",
    "plt.plot(epochs, kl_divs_all[:,4],label='BvsL')\n",
    "plt.plot(epochs, kl_divs_all[:,5],label='BvsC')\n",
    "plt.plot(epochs, kl_divs_all[:,6],label='CvsB')\n",
    "plt.plot(epochs, kl_divs_all[:,7],label='CvsL')\n",
    "plt.legend()\n",
    "fig.suptitle('KL divergence, comparing data to simulated jets')\n",
    "plt.xlabel('Epoch')\n",
    "plt.ylabel('KL divergence')"
   ]
  },
  {
   "cell_type": "code",
   "execution_count": 30,
   "metadata": {},
   "outputs": [
    {
     "name": "stdout",
     "output_type": "stream",
     "text": [
      "[0.014381003645962367, 0.004589501957013404, 0.0055274346337418345, 0.01764655305735733, 0.013711827448384426, 0.01057359089565336, 0.010573586710737893, 0.006814351108311328]\n"
     ]
    }
   ],
   "source": [
    "epochs = [200]  # add the ones for which StackPlotter results exist\n",
    "kl_divs_all_adv = []\n",
    "for i,e in enumerate(epochs):\n",
    "    kl_divs_adv = []\n",
    "    for disc in ['Prob_b','Prob_bb','Prob_c','Prob_l','BvsL', 'BvsC', 'CvsB', 'CvsL']:  # select thos that exist for paths listed below\n",
    "        histo = uproot.open(f'/nfs/dust/cms/user/anstein/ctag_condor/systPlots_210708_2017_notflat_{e}_gamma25.0_alphaNone_adv_tr_eps0.01/Plots_210708_notflat_{e}_gamma25.0_alphaNone_adv_tr_eps0.01_minimal_Custom/output_2017_PFNano_central/DY_m_jet_Custom{disc}_0_.root')\n",
    "        num, denom = histo['Data'].values(), histo['MCSum'].values()\n",
    "        #rint(num, denom)\n",
    "        denom[(denom == 0) & (num != 0)] = 0.00001\n",
    "        #rint(num, denom)\n",
    "        kl_divs_adv.append(entropy([v for v in num] , qk=[v for v in denom]))\n",
    "    print(kl_divs_adv)\n",
    "    kl_divs_all_adv.append(kl_divs_adv)\n",
    "kl_divs_all_adv = np.array(kl_divs_all_adv)"
   ]
  },
  {
   "cell_type": "code",
   "execution_count": 25,
   "metadata": {},
   "outputs": [
    {
     "data": {
      "text/plain": [
       "<ReadOnlyDirectory '/' at 0x7f655ab61bb0>"
      ]
     },
     "execution_count": 25,
     "metadata": {},
     "output_type": "execute_result"
    }
   ],
   "source": [
    "uproot.open('/nfs/dust/cms/user/anstein/ctag_condor/systPlots_210708_2017_notflat_200_gamma25.0_alphaNone_adv_tr_eps0.01/Plots_210708_notflat_200_gamma25.0_alphaNone_adv_tr_eps0.01_minimal_Custom/output_2017_PFNano_central/DY_m_jet_CustomBvsL_0_.root')"
   ]
  },
  {
   "cell_type": "code",
   "execution_count": null,
   "metadata": {},
   "outputs": [],
   "source": []
  }
 ],
 "metadata": {
  "kernelspec": {
   "display_name": "Python 3",
   "language": "python",
   "name": "python3"
  },
  "language_info": {
   "codemirror_mode": {
    "name": "ipython",
    "version": 3
   },
   "file_extension": ".py",
   "mimetype": "text/x-python",
   "name": "python",
   "nbconvert_exporter": "python",
   "pygments_lexer": "ipython3",
   "version": "3.8.6"
  }
 },
 "nbformat": 4,
 "nbformat_minor": 4
}
