{
 "cells": [
  {
   "cell_type": "code",
   "execution_count": null,
   "id": "4ee6bc7c-1ec5-45ac-9728-d525bc62da12",
   "metadata": {},
   "outputs": [],
   "source": [
    "import numpy as np\n",
    "import matplotlib.pyplot as plt\n",
    "import mplhep as hep"
   ]
  },
  {
   "cell_type": "code",
   "execution_count": null,
   "id": "1d4471cd-b979-4098-b8dc-e0cb8a6842ea",
   "metadata": {},
   "outputs": [],
   "source": [
    "plt.style.use([hep.style.ROOT, hep.style.firamath])"
   ]
  },
  {
   "cell_type": "code",
   "execution_count": null,
   "id": "438deced-c67d-4ddf-8a91-2001a00ba6cc",
   "metadata": {},
   "outputs": [],
   "source": [
    "paths_adv = '/nfs/dust/cms/user/anstein/DeepJet/test_outputs_for_BTV_meeting_adversarial/'\n",
    "paths_nom = '/nfs/dust/cms/user/anstein/DeepJet/test_outputs_for_BTV_meeting_nominal/'"
   ]
  },
  {
   "cell_type": "code",
   "execution_count": null,
   "id": "6ad06c2e-dbcd-4ac9-893c-7b871d58c2ed",
   "metadata": {},
   "outputs": [],
   "source": [
    "file_predictions_adv = {'raw'  : paths_adv + 'outPreds_PFtestNano_0_1.npy',\n",
    "                        'noise' : paths_adv + 'noise_outPreds_PFtestNano_0_1.npy',\n",
    "                        'FGSM'  : paths_adv + 'fgsm_outPreds_PFtestNano_0_1.npy'}\n",
    "file_predictions_nom = {'raw'  : paths_nom + 'outPreds_PFtestNano_0_1.npy',\n",
    "                        'noise' : paths_nom + 'noise_outPreds_PFtestNano_0_1.npy',\n",
    "                        'FGSM'  : paths_nom + 'fgsm_outPreds_PFtestNano_0_1.npy'}"
   ]
  },
  {
   "cell_type": "code",
   "execution_count": null,
   "id": "83576ad1-45f9-4ed1-a751-0a7abab9f808",
   "metadata": {},
   "outputs": [],
   "source": [
    "file_targets_nom = paths_nom + 'outTargets_PFtestNano_0_1.npy'"
   ]
  },
  {
   "cell_type": "code",
   "execution_count": null,
   "id": "ca0e012a-e97e-4469-a6a7-49ba30f4222b",
   "metadata": {},
   "outputs": [],
   "source": [
    "file_BvL_adv = {'raw'  : paths_adv + 'outBvsL_PFtestNano_0_1.npy',\n",
    "                'noise' : paths_adv + 'noise_outBvsL_PFtestNano_0_1.npy',\n",
    "                'FGSM'  : paths_adv + 'fgsm_outBvsL_PFtestNano_0_1.npy'}\n",
    "file_BvL_nom = {'raw'  : paths_nom + 'outBvsL_PFtestNano_0_1.npy',\n",
    "                'noise' : paths_nom + 'noise_outBvsL_PFtestNano_0_1.npy',\n",
    "                'FGSM'  : paths_nom + 'fgsm_outBvsL_PFtestNano_0_1.npy'}"
   ]
  },
  {
   "cell_type": "code",
   "execution_count": null,
   "id": "ec0e2fc5-d28d-4689-b6a8-c0c93f205b90",
   "metadata": {},
   "outputs": [],
   "source": [
    "file_BvC_adv = {'raw'  : paths_adv + 'outBvsC_PFtestNano_0_1.npy',\n",
    "                'noise' : paths_adv + 'noise_outBvsC_PFtestNano_0_1.npy',\n",
    "                'FGSM'  : paths_adv + 'fgsm_outBvsC_PFtestNano_0_1.npy'}\n",
    "file_BvC_nom = {'raw'  : paths_nom + 'outBvsC_PFtestNano_0_1.npy',\n",
    "                'noise' : paths_nom + 'noise_outBvsC_PFtestNano_0_1.npy',\n",
    "                'FGSM'  : paths_nom + 'fgsm_outBvsC_PFtestNano_0_1.npy'}"
   ]
  },
  {
   "cell_type": "code",
   "execution_count": null,
   "id": "d15a5a94-420b-40d9-99e6-8023e860bd7e",
   "metadata": {},
   "outputs": [],
   "source": [
    "file_CvB_adv = {'raw'  : paths_adv + 'outCvsB_PFtestNano_0_1.npy',\n",
    "                'noise' : paths_adv + 'noise_outCvsB_PFtestNano_0_1.npy',\n",
    "                'FGSM'  : paths_adv + 'fgsm_outCvsB_PFtestNano_0_1.npy'}\n",
    "file_CvB_nom = {'raw'  : paths_nom + 'outCvsB_PFtestNano_0_1.npy',\n",
    "                'noise' : paths_nom + 'noise_outCvsB_PFtestNano_0_1.npy',\n",
    "                'FGSM'  : paths_nom + 'fgsm_outCvsB_PFtestNano_0_1.npy'}"
   ]
  },
  {
   "cell_type": "code",
   "execution_count": null,
   "id": "4575ddf1-3710-4ece-a410-b9cf10638276",
   "metadata": {},
   "outputs": [],
   "source": [
    "file_CvL_adv = {'raw'  : paths_adv + 'outCvsL_PFtestNano_0_1.npy',\n",
    "                'noise' : paths_adv + 'noise_outCvsL_PFtestNano_0_1.npy',\n",
    "                'FGSM'  : paths_adv + 'fgsm_outCvsL_PFtestNano_0_1.npy'}\n",
    "file_CvL_nom = {'raw'  : paths_nom + 'outCvsL_PFtestNano_0_1.npy',\n",
    "                'noise' : paths_nom + 'noise_outCvsL_PFtestNano_0_1.npy',\n",
    "                'FGSM'  : paths_nom + 'fgsm_outCvsL_PFtestNano_0_1.npy'}"
   ]
  },
  {
   "cell_type": "code",
   "execution_count": null,
   "id": "b8e0f153-fbfd-4560-b3ba-bcce055b8072",
   "metadata": {},
   "outputs": [],
   "source": [
    "targets = np.load(file_targets_nom)"
   ]
  },
  {
   "cell_type": "code",
   "execution_count": null,
   "id": "04d81efa-e22b-42d8-9a58-23eee510480d",
   "metadata": {},
   "outputs": [],
   "source": [
    "BvL_adv_raw = np.load(file_BvL_adv['raw'])\n",
    "BvL_nom_raw = np.load(file_BvL_nom['raw'])\n",
    "BvL_adv_FGSM = np.load(file_BvL_adv['FGSM'])\n",
    "BvL_nom_FGSM = np.load(file_BvL_nom['FGSM'])"
   ]
  },
  {
   "cell_type": "code",
   "execution_count": null,
   "id": "60574ab2-7829-4e4b-8ca1-bc15f55e74b3",
   "metadata": {},
   "outputs": [],
   "source": [
    "BvC_adv_raw = np.load(file_BvC_adv['raw'])\n",
    "BvC_nom_raw = np.load(file_BvC_nom['raw'])\n",
    "BvC_adv_FGSM = np.load(file_BvC_adv['FGSM'])\n",
    "BvC_nom_FGSM = np.load(file_BvC_nom['FGSM'])"
   ]
  },
  {
   "cell_type": "code",
   "execution_count": null,
   "id": "b33f0af1-7ab2-4839-9582-a473b9c38778",
   "metadata": {},
   "outputs": [],
   "source": [
    "CvB_adv_raw = np.load(file_CvB_adv['raw'])\n",
    "CvB_nom_raw = np.load(file_CvB_nom['raw'])\n",
    "CvB_adv_FGSM = np.load(file_CvB_adv['FGSM'])\n",
    "CvB_nom_FGSM = np.load(file_CvB_nom['FGSM'])"
   ]
  },
  {
   "cell_type": "code",
   "execution_count": null,
   "id": "06778065-fd51-462d-8676-66461710ac5f",
   "metadata": {},
   "outputs": [],
   "source": [
    "CvL_adv_raw = np.load(file_CvL_adv['raw'])\n",
    "CvL_nom_raw = np.load(file_CvL_nom['raw'])\n",
    "CvL_adv_FGSM = np.load(file_CvL_adv['FGSM'])\n",
    "CvL_nom_FGSM = np.load(file_CvL_nom['FGSM'])"
   ]
  },
  {
   "cell_type": "code",
   "execution_count": null,
   "id": "aaac0a8b-6b02-471e-986d-ddafb048980a",
   "metadata": {},
   "outputs": [],
   "source": [
    "colors = ['red', 'blue', 'green']"
   ]
  },
  {
   "cell_type": "code",
   "execution_count": null,
   "id": "79d845a2-4841-4ae6-8358-52308c404d99",
   "metadata": {},
   "outputs": [],
   "source": [
    "f, ax = plt.subplots(figsize=(10,10))\n",
    "ax.hist(BvL_nom_raw[targets <= 2], range=(0,1), bins=20, log=True, histtype='step', linewidth=3, label='B (nominal training)', alpha=0.4, color=colors[0])\n",
    "ax.hist(BvL_nom_raw[targets == 3], range=(0,1), bins=20, log=True, histtype='step', linewidth=3, label='C (nominal training)', alpha=0.4, color=colors[1])\n",
    "ax.hist(BvL_nom_raw[targets >  3], range=(0,1), bins=20, log=True, histtype='step', linewidth=3, label='L (nominal training)', alpha=0.4, color=colors[2])\n",
    "ax.hist(BvL_adv_raw[targets <= 2], range=(0,1), bins=20, log=True, histtype='step', linestyle='--', linewidth=3, label='B (adversarial training)', color=colors[0])\n",
    "ax.hist(BvL_adv_raw[targets == 3], range=(0,1), bins=20, log=True, histtype='step', linestyle='--', linewidth=3, label='C (adversarial training)', color=colors[1])\n",
    "ax.hist(CvL_adv_raw[targets >  3], range=(0,1), bins=20, log=True, histtype='step', linestyle='--', linewidth=3, label='L (adversarial training)', color=colors[2])\n",
    "plt.legend(fontsize=12)\n",
    "plt.xlabel('BvsL (raw)')\n",
    "plt.ylabel('Jets')\n",
    "plt.show()"
   ]
  },
  {
   "cell_type": "code",
   "execution_count": null,
   "id": "2c794170-af80-4e80-aab3-6ad7680f390f",
   "metadata": {},
   "outputs": [],
   "source": [
    "f, ax = plt.subplots(figsize=(10,10))\n",
    "ax.hist(BvC_nom_raw[targets <= 2], range=(0,1), bins=20, log=True, histtype='step', linewidth=3, label='B (nominal training)', alpha=0.4, color=colors[0])\n",
    "ax.hist(BvC_nom_raw[targets == 3], range=(0,1), bins=20, log=True, histtype='step', linewidth=3, label='C (nominal training)', alpha=0.4, color=colors[1])\n",
    "ax.hist(BvC_nom_raw[targets >  3], range=(0,1), bins=20, log=True, histtype='step', linewidth=3, label='L (nominal training)', alpha=0.4, color=colors[2])\n",
    "ax.hist(BvC_adv_raw[targets <= 2], range=(0,1), bins=20, log=True, histtype='step', linestyle='--', linewidth=3, label='B (adversarial training)', color=colors[0])\n",
    "ax.hist(BvC_adv_raw[targets == 3], range=(0,1), bins=20, log=True, histtype='step', linestyle='--', linewidth=3, label='C (adversarial training)', color=colors[1])\n",
    "ax.hist(CvL_adv_raw[targets >  3], range=(0,1), bins=20, log=True, histtype='step', linestyle='--', linewidth=3, label='L (adversarial training)', color=colors[2])\n",
    "plt.legend(fontsize=12)\n",
    "plt.xlabel('BvsC (raw)')\n",
    "plt.ylabel('Jets')\n",
    "plt.show()"
   ]
  },
  {
   "cell_type": "code",
   "execution_count": null,
   "id": "2fa3eeb2-f0c9-4443-8805-d7907efe62ac",
   "metadata": {},
   "outputs": [],
   "source": [
    "f, ax = plt.subplots(figsize=(10,10))\n",
    "ax.hist(CvB_nom_raw[targets <= 2], range=(0,1), bins=20, log=True, histtype='step', linewidth=3, label='B (nominal training)', alpha=0.4, color=colors[0])\n",
    "ax.hist(CvB_nom_raw[targets == 3], range=(0,1), bins=20, log=True, histtype='step', linewidth=3, label='C (nominal training)', alpha=0.4, color=colors[1])\n",
    "ax.hist(CvB_nom_raw[targets >  3], range=(0,1), bins=20, log=True, histtype='step', linewidth=3, label='L (nominal training)', alpha=0.4, color=colors[2])\n",
    "ax.hist(CvB_adv_raw[targets <= 2], range=(0,1), bins=20, log=True, histtype='step', linestyle='--', linewidth=3, label='B (adversarial training)', color=colors[0])\n",
    "ax.hist(CvB_adv_raw[targets == 3], range=(0,1), bins=20, log=True, histtype='step', linestyle='--', linewidth=3, label='C (adversarial training)', color=colors[1])\n",
    "ax.hist(CvB_adv_raw[targets >  3], range=(0,1), bins=20, log=True, histtype='step', linestyle='--', linewidth=3, label='L (adversarial training)', color=colors[2])\n",
    "plt.legend(fontsize=12, loc='upper left')\n",
    "plt.xlabel('CvsB (raw)')\n",
    "plt.ylabel('Jets')\n",
    "plt.show()"
   ]
  },
  {
   "cell_type": "code",
   "execution_count": null,
   "id": "3c6d702f-09b4-488d-8eb7-e53d4f8c024c",
   "metadata": {},
   "outputs": [],
   "source": [
    "f, ax = plt.subplots(figsize=(10,10))\n",
    "ax.hist(CvL_nom_raw[targets <= 2], range=(0,1), bins=20, log=True, histtype='step', linewidth=3, label='B (nominal training)', alpha=0.4, color=colors[0])\n",
    "ax.hist(CvL_nom_raw[targets == 3], range=(0,1), bins=20, log=True, histtype='step', linewidth=3, label='C (nominal training)', alpha=0.4, color=colors[1])\n",
    "ax.hist(CvL_nom_raw[targets >  3], range=(0,1), bins=20, log=True, histtype='step', linewidth=3, label='L (nominal training)', alpha=0.4, color=colors[2])\n",
    "ax.hist(CvL_adv_raw[targets <= 2], range=(0,1), bins=20, log=True, histtype='step', linestyle='--', linewidth=3, label='B (adversarial training)', color=colors[0])\n",
    "ax.hist(CvL_adv_raw[targets == 3], range=(0,1), bins=20, log=True, histtype='step', linestyle='--', linewidth=3, label='C (adversarial training)', color=colors[1])\n",
    "ax.hist(CvL_adv_raw[targets >  3], range=(0,1), bins=20, log=True, histtype='step', linestyle='--', linewidth=3, label='L (adversarial training)', color=colors[2])\n",
    "plt.legend(fontsize=12)\n",
    "plt.xlabel('CvsL (raw)')\n",
    "plt.ylabel('Jets')\n",
    "plt.show()"
   ]
  },
  {
   "cell_type": "code",
   "execution_count": null,
   "id": "7cba46b0-4cfa-4260-a1fb-d94c9141c2d7",
   "metadata": {},
   "outputs": [],
   "source": [
    "f, ax = plt.subplots(figsize=(10,10))\n",
    "ax.hist(BvL_nom_raw[targets <= 2], range=(0,1), bins=20, log=True, histtype='step', linewidth=3, label='B (raw)', alpha=0.4, color=colors[0])\n",
    "ax.hist(BvL_nom_raw[targets == 3], range=(0,1), bins=20, log=True, histtype='step', linewidth=3, label='C (raw)', alpha=0.4, color=colors[1])\n",
    "ax.hist(BvL_nom_raw[targets >  3], range=(0,1), bins=20, log=True, histtype='step', linewidth=3, label='L (raw)', alpha=0.4, color=colors[2])\n",
    "ax.hist(BvL_nom_FGSM[targets <= 2], range=(0,1), bins=20, log=True, histtype='step', linestyle='--', linewidth=3, label='B (FGSM)', color=colors[0])\n",
    "ax.hist(BvL_nom_FGSM[targets == 3], range=(0,1), bins=20, log=True, histtype='step', linestyle='--', linewidth=3, label='C (FGSM)', color=colors[1])\n",
    "ax.hist(BvL_nom_FGSM[targets >  3], range=(0,1), bins=20, log=True, histtype='step', linestyle='--', linewidth=3, label='L (FGSM)', color=colors[2])\n",
    "plt.legend(fontsize=12, loc='upper right')\n",
    "plt.xlabel('BvsL (Nominal training)')\n",
    "plt.ylabel('Jets')\n",
    "plt.show()"
   ]
  },
  {
   "cell_type": "code",
   "execution_count": null,
   "id": "f4b44bfe-806d-4c57-af1a-be27e61dfe32",
   "metadata": {},
   "outputs": [],
   "source": [
    "f, ax = plt.subplots(figsize=(10,10))\n",
    "ax.hist(BvL_nom_raw, range=(0,1), bins=20, log=True, histtype='step', linewidth=3, label='raw', alpha=0.4, color='k')\n",
    "ax.hist(BvL_nom_FGSM, range=(0,1), bins=20, log=True, histtype='step', linestyle='--', linewidth=3, label='FGSM', color='k')\n",
    "plt.legend(fontsize=12, loc='upper right')\n",
    "plt.xlabel('BvsL (Nominal training)')\n",
    "plt.ylabel('Jets')\n",
    "plt.show()"
   ]
  },
  {
   "cell_type": "code",
   "execution_count": null,
   "id": "4265a258-a1c7-4cc8-92bb-d19944654f0c",
   "metadata": {},
   "outputs": [],
   "source": [
    "f, ax = plt.subplots(figsize=(10,10))\n",
    "ax.hist(BvL_adv_raw, range=(0,1), bins=20, log=True, histtype='step', linewidth=3, label='raw', alpha=0.4, color='k')\n",
    "ax.hist(BvL_adv_FGSM, range=(0,1), bins=20, log=True, histtype='step', linestyle='--', linewidth=3, label='FGSM', color='k')\n",
    "plt.legend(fontsize=12, loc='upper right')\n",
    "plt.xlabel('BvsL (Adversarial training)')\n",
    "plt.ylabel('Jets')\n",
    "plt.show()"
   ]
  },
  {
   "cell_type": "code",
   "execution_count": null,
   "id": "dc470fc7-e5a2-4d82-857d-6d1fe369b450",
   "metadata": {},
   "outputs": [],
   "source": [
    "f, ax = plt.subplots(figsize=(10,10))\n",
    "ax.hist(BvL_adv_raw[targets <= 2], range=(0,1), bins=20, log=True, histtype='step', linewidth=3, label='B (raw)', alpha=0.4, color=colors[0])\n",
    "ax.hist(BvL_adv_raw[targets == 3], range=(0,1), bins=20, log=True, histtype='step', linewidth=3, label='C (raw)', alpha=0.4, color=colors[1])\n",
    "ax.hist(BvL_adv_raw[targets >  3], range=(0,1), bins=20, log=True, histtype='step', linewidth=3, label='L (raw)', alpha=0.4, color=colors[2])\n",
    "ax.hist(BvL_adv_FGSM[targets <= 2], range=(0,1), bins=20, log=True, histtype='step', linestyle='--', linewidth=3, label='B (FGSM)', color=colors[0])\n",
    "ax.hist(BvL_adv_FGSM[targets == 3], range=(0,1), bins=20, log=True, histtype='step', linestyle='--', linewidth=3, label='C (FGSM)', color=colors[1])\n",
    "ax.hist(BvL_adv_FGSM[targets >  3], range=(0,1), bins=20, log=True, histtype='step', linestyle='--', linewidth=3, label='L (FGSM)', color=colors[2])\n",
    "plt.legend(fontsize=12, loc='upper right')\n",
    "plt.xlabel('BvsL (Adversarial training)')\n",
    "plt.ylabel('Jets')\n",
    "plt.show()"
   ]
  },
  {
   "cell_type": "code",
   "execution_count": null,
   "id": "274e4720-e77d-4d4c-898e-312257bb74c5",
   "metadata": {},
   "outputs": [],
   "source": [
    "f, ax = plt.subplots(figsize=(10,10))\n",
    "ax.hist(CvB_nom_raw[targets <= 2], range=(0,1), bins=20, log=True, histtype='step', linewidth=3, label='B (raw)', alpha=0.4, color=colors[0])\n",
    "ax.hist(CvB_nom_raw[targets == 3], range=(0,1), bins=20, log=True, histtype='step', linewidth=3, label='C (raw)', alpha=0.4, color=colors[1])\n",
    "ax.hist(CvB_nom_raw[targets >  3], range=(0,1), bins=20, log=True, histtype='step', linewidth=3, label='L (raw)', alpha=0.4, color=colors[2])\n",
    "ax.hist(CvB_nom_FGSM[targets <= 2], range=(0,1), bins=20, log=True, histtype='step', linestyle='--', linewidth=3, label='B (FGSM)', color=colors[0])\n",
    "ax.hist(CvB_nom_FGSM[targets == 3], range=(0,1), bins=20, log=True, histtype='step', linestyle='--', linewidth=3, label='C (FGSM)', color=colors[1])\n",
    "ax.hist(CvB_nom_FGSM[targets >  3], range=(0,1), bins=20, log=True, histtype='step', linestyle='--', linewidth=3, label='L (FGSM)', color=colors[2])\n",
    "plt.legend(fontsize=12, loc='upper left')\n",
    "plt.xlabel('CvsB (Nominal training)')\n",
    "plt.ylabel('Jets')\n",
    "plt.show()"
   ]
  },
  {
   "cell_type": "code",
   "execution_count": null,
   "id": "d05daeec-6769-4e80-bfda-b849f18b1bd9",
   "metadata": {},
   "outputs": [],
   "source": [
    "f, ax = plt.subplots(figsize=(10,10))\n",
    "ax.hist(CvB_adv_raw[targets <= 2], range=(0,1), bins=20, log=True, histtype='step', linewidth=3, label='B (raw)', alpha=0.4, color=colors[0])\n",
    "ax.hist(CvB_adv_raw[targets == 3], range=(0,1), bins=20, log=True, histtype='step', linewidth=3, label='C (raw)', alpha=0.4, color=colors[1])\n",
    "ax.hist(CvB_adv_raw[targets >  3], range=(0,1), bins=20, log=True, histtype='step', linewidth=3, label='L (raw)', alpha=0.4, color=colors[2])\n",
    "ax.hist(CvB_adv_FGSM[targets <= 2], range=(0,1), bins=20, log=True, histtype='step', linestyle='--', linewidth=3, label='B (FGSM)', color=colors[0])\n",
    "ax.hist(CvB_adv_FGSM[targets == 3], range=(0,1), bins=20, log=True, histtype='step', linestyle='--', linewidth=3, label='C (FGSM)', color=colors[1])\n",
    "ax.hist(CvB_adv_FGSM[targets >  3], range=(0,1), bins=20, log=True, histtype='step', linestyle='--', linewidth=3, label='L (FGSM)', color=colors[2])\n",
    "plt.legend(fontsize=12, loc='upper left')\n",
    "plt.xlabel('CvsB (Adversarial training)')\n",
    "plt.ylabel('Jets')\n",
    "plt.show()"
   ]
  },
  {
   "cell_type": "code",
   "execution_count": null,
   "id": "fbb50d18-683d-4401-8632-69e4db6a6ae0",
   "metadata": {},
   "outputs": [],
   "source": []
  }
 ],
 "metadata": {
  "kernelspec": {
   "display_name": "Python 3 (ipykernel)",
   "language": "python",
   "name": "python3"
  },
  "language_info": {
   "codemirror_mode": {
    "name": "ipython",
    "version": 3
   },
   "file_extension": ".py",
   "mimetype": "text/x-python",
   "name": "python",
   "nbconvert_exporter": "python",
   "pygments_lexer": "ipython3",
   "version": "3.7.12"
  }
 },
 "nbformat": 4,
 "nbformat_minor": 5
}
